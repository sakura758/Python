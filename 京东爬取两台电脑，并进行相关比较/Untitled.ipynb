{
 "cells": [
  {
   "cell_type": "code",
   "execution_count": 1,
   "id": "f6b98680",
   "metadata": {},
   "outputs": [],
   "source": [
    "import requests\n",
    "import concurrent.futures\n",
    "import csv\n",
    "from lxml import etree\n",
    "import re"
   ]
  },
  {
   "cell_type": "code",
   "execution_count": 2,
   "id": "d7d4b19d",
   "metadata": {},
   "outputs": [],
   "source": [
    "def scrape_douban(title):\n",
    "    url1 = \"https://book.douban.com/tag/{}\".format(title)  # 起始页面url\n",
    "\n",
    "    def mm(a):\n",
    "        b = a.split()[1]\n",
    "        c = b.split('<')[0]\n",
    "        return c\n",
    "\n",
    "    page = 0\n",
    "    while page < 2:  # 遍历页面，page < 10 表示 10 页\n",
    "        page += 1\n",
    "        url = url1 + \"?start={}&type=T\".format(page * 20)\n",
    "        headers = {\n",
    "            'User-Agent': 'Mozilla/5.0 (Windows NT 10.0; Win64; x64) AppleWebKit/537.36 (KHTML, like Gecko) Chrome/58.0.3029.110 Safari/537.3'}\n",
    "        response = requests.get(url, headers=headers).text\n",
    "        tree = etree.HTML(response)\n",
    "        urls = tree.xpath('//*[@id=\"subject_list\"]/ul/li/div[1]/a/@href')\n",
    "        #print(urls)\n",
    "        for url2 in urls:\n",
    "            response = requests.get(url2, headers=headers).text\n",
    "            root = etree.HTML(response)\n",
    "            title = root.xpath('//*[@id=\"wrapper\"]/h1/span/text()')  # 书名\n",
    "            author = root.xpath('//*[@id=\"info\"]/span[1]/a/text()')  # 作者\n",
    "            press = root.xpath('//*[@id=\"info\"]/a[1]/text()')  # 出版社\n",
    "            score = root.xpath('//*[@id=\"interest_sectl\"]/div/div[2]/strong/text()')  # 豆瓣评分\n",
    "            url = root.xpath('/html/head/meta[10]/@content')  # url\n",
    "            cover = root.xpath('//*[@id=\"mainpic\"]/a/img/@src')\n",
    "            time_ = response.selector.re(r'出版年:</span> [0-9]+-[0-9]+-?[0-9]*<br>')[0]\n",
    "            time = mm(time_)  # 出版日期\n",
    "\n",
    "            pages = response.selector.re(r'页数:</span> [0-9]+<br>')  # 页数，有些页数没有，赋值为空\n",
    "            if page == []:\n",
    "                page = ['0']\n",
    "                pages = page[0]\n",
    "            else:\n",
    "                pages = mm(pages[0])\n",
    "\n",
    "            price_ = response.selector.re(r'定价:</span> [0-9]+.?[0-9]*[元]?<br>')[0]  # 价格\n",
    "            price = mm(price_)\n",
    "\n",
    "            isbn_ = response.selector.re(r'ISBN:</span> [0-9]+<br>')[0]  # ISBN号\n",
    "            isbn = mm(isbn_)\n",
    "\n",
    "            a = response.xpath('//*[@id=\"interest_sectl\"]/div/div[2]/div/div[2]/span/a/span/text()')\n",
    "            if a == []:\n",
    "                a = ['0']\n",
    "            evaluators = a[0]  # 评论人数\n",
    "\n",
    "            books = []\n",
    "            books.append([title, author, press, score, time, price, isbn, evaluators, cover, url])\n",
    "    return books"
   ]
  },
  {
   "cell_type": "code",
   "execution_count": 4,
   "id": "d0eb8deb",
   "metadata": {},
   "outputs": [
    {
     "ename": "AttributeError",
     "evalue": "'str' object has no attribute 'selector'",
     "output_type": "error",
     "traceback": [
      "\u001b[1;31m---------------------------------------------------------------------------\u001b[0m",
      "\u001b[1;31mAttributeError\u001b[0m                            Traceback (most recent call last)",
      "\u001b[1;32me:\\作业\\爬虫\\Untitled.ipynb 单元格 3\u001b[0m in \u001b[0;36m1\n\u001b[0;32m     <a href='vscode-notebook-cell:/e%3A/%E4%BD%9C%E4%B8%9A/%E7%88%AC%E8%99%AB/Untitled.ipynb#W6sZmlsZQ%3D%3D?line=12'>13</a>\u001b[0m     futures\u001b[39m.\u001b[39mappend(executor\u001b[39m.\u001b[39msubmit(scrape_douban, \u001b[39m'\u001b[39m\u001b[39m教育\u001b[39m\u001b[39m'\u001b[39m))\n\u001b[0;32m     <a href='vscode-notebook-cell:/e%3A/%E4%BD%9C%E4%B8%9A/%E7%88%AC%E8%99%AB/Untitled.ipynb#W6sZmlsZQ%3D%3D?line=14'>15</a>\u001b[0m \u001b[39mfor\u001b[39;00m future \u001b[39min\u001b[39;00m concurrent\u001b[39m.\u001b[39mfutures\u001b[39m.\u001b[39mas_completed(futures):\n\u001b[1;32m---> <a href='vscode-notebook-cell:/e%3A/%E4%BD%9C%E4%B8%9A/%E7%88%AC%E8%99%AB/Untitled.ipynb#W6sZmlsZQ%3D%3D?line=15'>16</a>\u001b[0m     books \u001b[39m=\u001b[39m future\u001b[39m.\u001b[39;49mresult()\n\u001b[0;32m     <a href='vscode-notebook-cell:/e%3A/%E4%BD%9C%E4%B8%9A/%E7%88%AC%E8%99%AB/Untitled.ipynb#W6sZmlsZQ%3D%3D?line=16'>17</a>\u001b[0m     save_to_csv(books)\n",
      "File \u001b[1;32md:\\python\\lib\\concurrent\\futures\\_base.py:439\u001b[0m, in \u001b[0;36mFuture.result\u001b[1;34m(self, timeout)\u001b[0m\n\u001b[0;32m    437\u001b[0m     \u001b[39mraise\u001b[39;00m CancelledError()\n\u001b[0;32m    438\u001b[0m \u001b[39melif\u001b[39;00m \u001b[39mself\u001b[39m\u001b[39m.\u001b[39m_state \u001b[39m==\u001b[39m FINISHED:\n\u001b[1;32m--> 439\u001b[0m     \u001b[39mreturn\u001b[39;00m \u001b[39mself\u001b[39;49m\u001b[39m.\u001b[39;49m__get_result()\n\u001b[0;32m    441\u001b[0m \u001b[39mself\u001b[39m\u001b[39m.\u001b[39m_condition\u001b[39m.\u001b[39mwait(timeout)\n\u001b[0;32m    443\u001b[0m \u001b[39mif\u001b[39;00m \u001b[39mself\u001b[39m\u001b[39m.\u001b[39m_state \u001b[39min\u001b[39;00m [CANCELLED, CANCELLED_AND_NOTIFIED]:\n",
      "File \u001b[1;32md:\\python\\lib\\concurrent\\futures\\_base.py:391\u001b[0m, in \u001b[0;36mFuture.__get_result\u001b[1;34m(self)\u001b[0m\n\u001b[0;32m    389\u001b[0m \u001b[39mif\u001b[39;00m \u001b[39mself\u001b[39m\u001b[39m.\u001b[39m_exception:\n\u001b[0;32m    390\u001b[0m     \u001b[39mtry\u001b[39;00m:\n\u001b[1;32m--> 391\u001b[0m         \u001b[39mraise\u001b[39;00m \u001b[39mself\u001b[39m\u001b[39m.\u001b[39m_exception\n\u001b[0;32m    392\u001b[0m     \u001b[39mfinally\u001b[39;00m:\n\u001b[0;32m    393\u001b[0m         \u001b[39m# Break a reference cycle with the exception in self._exception\u001b[39;00m\n\u001b[0;32m    394\u001b[0m         \u001b[39mself\u001b[39m \u001b[39m=\u001b[39m \u001b[39mNone\u001b[39;00m\n",
      "File \u001b[1;32md:\\python\\lib\\concurrent\\futures\\thread.py:58\u001b[0m, in \u001b[0;36m_WorkItem.run\u001b[1;34m(self)\u001b[0m\n\u001b[0;32m     55\u001b[0m     \u001b[39mreturn\u001b[39;00m\n\u001b[0;32m     57\u001b[0m \u001b[39mtry\u001b[39;00m:\n\u001b[1;32m---> 58\u001b[0m     result \u001b[39m=\u001b[39m \u001b[39mself\u001b[39m\u001b[39m.\u001b[39mfn(\u001b[39m*\u001b[39m\u001b[39mself\u001b[39m\u001b[39m.\u001b[39margs, \u001b[39m*\u001b[39m\u001b[39m*\u001b[39m\u001b[39mself\u001b[39m\u001b[39m.\u001b[39mkwargs)\n\u001b[0;32m     59\u001b[0m \u001b[39mexcept\u001b[39;00m \u001b[39mBaseException\u001b[39;00m \u001b[39mas\u001b[39;00m exc:\n\u001b[0;32m     60\u001b[0m     \u001b[39mself\u001b[39m\u001b[39m.\u001b[39mfuture\u001b[39m.\u001b[39mset_exception(exc)\n",
      "\u001b[1;32me:\\作业\\爬虫\\Untitled.ipynb 单元格 3\u001b[0m in \u001b[0;36m2\n\u001b[0;32m     <a href='vscode-notebook-cell:/e%3A/%E4%BD%9C%E4%B8%9A/%E7%88%AC%E8%99%AB/Untitled.ipynb#W6sZmlsZQ%3D%3D?line=25'>26</a>\u001b[0m url \u001b[39m=\u001b[39m root\u001b[39m.\u001b[39mxpath(\u001b[39m'\u001b[39m\u001b[39m/html/head/meta[10]/@content\u001b[39m\u001b[39m'\u001b[39m)  \u001b[39m# url\u001b[39;00m\n\u001b[0;32m     <a href='vscode-notebook-cell:/e%3A/%E4%BD%9C%E4%B8%9A/%E7%88%AC%E8%99%AB/Untitled.ipynb#W6sZmlsZQ%3D%3D?line=26'>27</a>\u001b[0m cover \u001b[39m=\u001b[39m root\u001b[39m.\u001b[39mxpath(\u001b[39m'\u001b[39m\u001b[39m//*[@id=\u001b[39m\u001b[39m\"\u001b[39m\u001b[39mmainpic\u001b[39m\u001b[39m\"\u001b[39m\u001b[39m]/a/img/@src\u001b[39m\u001b[39m'\u001b[39m)\n\u001b[1;32m---> <a href='vscode-notebook-cell:/e%3A/%E4%BD%9C%E4%B8%9A/%E7%88%AC%E8%99%AB/Untitled.ipynb#W6sZmlsZQ%3D%3D?line=27'>28</a>\u001b[0m time_ \u001b[39m=\u001b[39m response\u001b[39m.\u001b[39;49mselector\u001b[39m.\u001b[39mre(\u001b[39mr\u001b[39m\u001b[39m'\u001b[39m\u001b[39m出版年:</span> [0-9]+-[0-9]+-?[0-9]*<br>\u001b[39m\u001b[39m'\u001b[39m)[\u001b[39m0\u001b[39m]\n\u001b[0;32m     <a href='vscode-notebook-cell:/e%3A/%E4%BD%9C%E4%B8%9A/%E7%88%AC%E8%99%AB/Untitled.ipynb#W6sZmlsZQ%3D%3D?line=28'>29</a>\u001b[0m time \u001b[39m=\u001b[39m mm(time_)  \u001b[39m# 出版日期\u001b[39;00m\n\u001b[0;32m     <a href='vscode-notebook-cell:/e%3A/%E4%BD%9C%E4%B8%9A/%E7%88%AC%E8%99%AB/Untitled.ipynb#W6sZmlsZQ%3D%3D?line=30'>31</a>\u001b[0m pages \u001b[39m=\u001b[39m response\u001b[39m.\u001b[39mselector\u001b[39m.\u001b[39mre(\u001b[39mr\u001b[39m\u001b[39m'\u001b[39m\u001b[39m页数:</span> [0-9]+<br>\u001b[39m\u001b[39m'\u001b[39m)  \u001b[39m# 页数，有些页数没有，赋值为空\u001b[39;00m\n",
      "\u001b[1;31mAttributeError\u001b[0m: 'str' object has no attribute 'selector'"
     ]
    }
   ],
   "source": [
    "def save_to_csv(books):\n",
    "    with open('books.csv', 'a+', newline='', encoding='utf-8') as file:\n",
    "        writer = csv.writer(file)\n",
    "        for book in books:\n",
    "            writer.writerow(book)\n",
    "\n",
    "\n",
    "start_positions = range(0, 200, 20)\n",
    "\n",
    "with concurrent.futures.ThreadPoolExecutor(max_workers=4) as executor:\n",
    "    futures = []\n",
    "    for start in start_positions:\n",
    "        futures.append(executor.submit(scrape_douban, '教育'))\n",
    "\n",
    "    for future in concurrent.futures.as_completed(futures):\n",
    "        books = future.result()\n",
    "        save_to_csv(books)"
   ]
  },
  {
   "cell_type": "code",
   "execution_count": null,
   "id": "90954b80",
   "metadata": {},
   "outputs": [],
   "source": []
  },
  {
   "cell_type": "code",
   "execution_count": null,
   "id": "aaec8141",
   "metadata": {},
   "outputs": [],
   "source": []
  }
 ],
 "metadata": {
  "kernelspec": {
   "display_name": "Python 3 (ipykernel)",
   "language": "python",
   "name": "python3"
  },
  "language_info": {
   "codemirror_mode": {
    "name": "ipython",
    "version": 3
   },
   "file_extension": ".py",
   "mimetype": "text/x-python",
   "name": "python",
   "nbconvert_exporter": "python",
   "pygments_lexer": "ipython3",
   "version": "3.9.13"
  }
 },
 "nbformat": 4,
 "nbformat_minor": 5
}
